{
 "cells": [
  {
   "cell_type": "markdown",
   "metadata": {},
   "source": [
    "### 학습내용\n",
    "\n",
    ">정규화 - 크롤링등 데이터 수집함에 있어 필수 기술 <br>\n",
    ">학습 완료 후 - 파이썬 library(모듈,package)을 활용한 크롤링<br>\n",
    ">크롤링 필수 기술 - css분석(css selector), html문서의 구조 이해<br>\n",
    "\n",
    ">css 참고 사이트<br>\n",
    "    https://www.w3schools.com/cssref/css_selectors.asp\n",
    "\n",
    ">정규화 학습용 참고 사이트<br>\n",
    "    https://www.w3schools.com/js/js_regexp.asp<br>\n",
    "    https://www.w3schools.com/jsref/jsref_obj_regexp.asp"
   ]
  },
  {
   "cell_type": "code",
   "execution_count": 61,
   "metadata": {},
   "outputs": [
    {
     "data": {
      "text/plain": [
       "<_sre.SRE_Match object; span=(7, 9), match='/w'>"
      ]
     },
     "execution_count": 61,
     "metadata": {},
     "output_type": "execute_result"
    }
   ],
   "source": [
    "import re\n",
    "re.search(\"/w\",\"www.cloudera.com/\")"
   ]
  },
  {
   "cell_type": "code",
   "execution_count": 7,
   "metadata": {},
   "outputs": [
    {
     "name": "stdout",
     "output_type": "stream",
     "text": [
      "id는 hi 입니다.\n",
      "포털 사이트는 mm 입니다.\n"
     ]
    }
   ],
   "source": [
    "import re\n",
    "x = input('이메일 주소를 입력해주세요 : ')\n",
    "a = re.split(\"[@.]\",x)\n",
    "print('id는',a[0],'입니다.')\n",
    "print('포털 사이트는',a[1],'입니다.')"
   ]
  },
  {
   "cell_type": "code",
   "execution_count": 64,
   "metadata": {},
   "outputs": [
    {
     "data": {
      "text/plain": [
       "<_sre.SRE_Match object; span=(4, 12), match='cloudera'>"
      ]
     },
     "execution_count": 64,
     "metadata": {},
     "output_type": "execute_result"
    }
   ],
   "source": [
    "import re\n",
    "re.search(\"c\\w+\",\"www.cloudera.com/\")"
   ]
  },
  {
   "cell_type": "code",
   "execution_count": 5,
   "metadata": {},
   "outputs": [
    {
     "name": "stdout",
     "output_type": "stream",
     "text": [
      "where : nexearch\n",
      "sm : top_hty\n",
      "fbm : 0\n",
      "ie : utf8\n",
      "query : 멀티캠퍼스\n"
     ]
    }
   ],
   "source": [
    "import re\n",
    "\n",
    "url = \"https://search.naver.com/search.naver?where=nexearch&sm=top_hty&fbm=0&ie=utf8&query=멀티캠퍼스\"\n",
    "list = re.split(\"/\",url)\n",
    "str = re.split(\"[^\\w\\s]\",list[3])\n",
    "for idx, data in enumerate(str,0):\n",
    "    if data == \"where\":\n",
    "        where = idx + 1\n",
    "    if data == \"sm\":\n",
    "        sm = idx+1\n",
    "    if data == \"fbm\":\n",
    "        fbm = idx+1\n",
    "    if data == \"ie\":\n",
    "        ie = idx+1\n",
    "    if data == \"query\":\n",
    "        query = idx+1\n",
    "        \n",
    "print(\"where : \" + str[where])\n",
    "print(\"sm : \" + str[sm])\n",
    "print(\"fbm : \" + str[fbm])\n",
    "print(\"ie : \" + str[ie])\n",
    "print(\"query : \" + str[query])\n"
   ]
  },
  {
   "cell_type": "code",
   "execution_count": 8,
   "metadata": {},
   "outputs": [
    {
     "name": "stdout",
     "output_type": "stream",
     "text": [
      "912345-6789123\n"
     ]
    }
   ],
   "source": [
    "import re\n",
    " \n",
    "text = \"수많은 문장 안에 주민등록번호 찾기 과연 남자일지 912345-6789123 여자일지 1이나 2로 시작하는 주민번호 말고 다른 숫자로 시작하면 어떻게 될까?\"\n",
    " \n",
    "a = re.compile(r'\\d\\d\\d\\d\\d\\d-\\d\\d\\d\\d\\d\\d\\d')\n",
    "b = a.search(text)\n",
    "regitNum = b.group()\n",
    "print(regitNum) "
   ]
  },
  {
   "cell_type": "code",
   "execution_count": null,
   "metadata": {},
   "outputs": [],
   "source": []
  },
  {
   "cell_type": "code",
   "execution_count": null,
   "metadata": {},
   "outputs": [],
   "source": []
  },
  {
   "cell_type": "code",
   "execution_count": null,
   "metadata": {},
   "outputs": [],
   "source": []
  },
  {
   "cell_type": "code",
   "execution_count": null,
   "metadata": {},
   "outputs": [],
   "source": []
  }
 ],
 "metadata": {
  "kernelspec": {
   "display_name": "Python 3",
   "language": "python",
   "name": "python3"
  },
  "language_info": {
   "codemirror_mode": {
    "name": "ipython",
    "version": 3
   },
   "file_extension": ".py",
   "mimetype": "text/x-python",
   "name": "python",
   "nbconvert_exporter": "python",
   "pygments_lexer": "ipython3",
   "version": "3.6.5"
  }
 },
 "nbformat": 4,
 "nbformat_minor": 2
}
