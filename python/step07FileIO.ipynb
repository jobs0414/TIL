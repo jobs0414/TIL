{
 "cells": [
  {
   "cell_type": "code",
   "execution_count": null,
   "metadata": {},
   "outputs": [],
   "source": [
    "### 1. 논리적인 파일 구조\n",
    "\n",
    ">1. 파일 안에는 바이트들이 순차적으로 저장되어 있고 맨 끝에는 EOF(end-of-file) 마커가 있음\n",
    "\n",
    ">2. 모든 파일은 입출력 동작이 발생하는 위치를 나타내는 위치 표시자(position indicator)를 가지고 있음\n",
    "\n",
    ">3. 텍스트 파일 읽고 쓰기<br>\n",
    "   - open(\"file 이름\", 파일열기모드, 인코딩)<br>\n",
    "   - 파일 열기 모드<br>\n",
    "       1. r : 읽기 모드(파일의 처음부터 read)<br>\n",
    "       2. w : 쓰기 모드(파일의 처음부터 쓰기, 파일이 없으면 생성, 존재하면 기존 내용은 지우고 새로 작성)<br>\n",
    "       3. a : 추가 모드(파일의 끝에 씀, 파일이 없으면 생성)<br>\n",
    "       4. r+ : 읽기 쓰기 모드(파일에 읽고 쓸수 있는 모드)\n",
    "    "
   ]
  },
  {
   "cell_type": "code",
   "execution_count": null,
   "metadata": {},
   "outputs": [],
   "source": [
    "#파일쓰기\n",
    "# 이미 존재할 경우  내용이 새로 갱신, 미존재할 경우 파일생성 및 데이터 출력\n",
    "f = open(\"output.txt\", \"w\", encoding=\"utf-8\" )  \n",
    "\n",
    "f.write(\"#1.open()으로 파일 객체얻기\\n\")\n",
    "f.write(\"#2.read(), write()\\n\")\n",
    "f.write(\"#3.close()\\n\")\n",
    "\n",
    "\n",
    "\n",
    "f.close()\n"
   ]
  },
  {
   "cell_type": "code",
   "execution_count": null,
   "metadata": {},
   "outputs": [],
   "source": [
    "#with문 이용....with를 빠지면서 자동으로 close()\n",
    "with open(\"output2.txt\", \"w\" , encoding='utf-8') as f:\n",
    "    \n",
    "    f.write(\"#1.open()으로 파일 객체얻기\\n\")\n",
    "    f.write(\"#2.read(), write()\\n\")\n",
    "    f.write(\"#3.close()\\n\")"
   ]
  },
  {
   "cell_type": "code",
   "execution_count": null,
   "metadata": {},
   "outputs": [],
   "source": [
    "#파일읽기\n",
    "with open(\"output2.txt\", \"r\", encoding='utf-8') as f:\n",
    "    print(f.read())"
   ]
  },
  {
   "cell_type": "code",
   "execution_count": null,
   "metadata": {},
   "outputs": [],
   "source": [
    "#줄단위로 파일을 쓰기    \n",
    "#? line 단위로 쓰여지는지에 대한 확인은 어떻게? \n",
    "#결론 : writelines()는 list데이터 출력 단, \n",
    "#list 각각의 요소 (데이터)에는 \\n 표기 필수!   사고하는 방법을 길르자! \n",
    "\n",
    "lines = [\"first line\\n\", \"second line\\n\",\"third line\\n\"]   #\\n이 왜 들어갔는가? \\n  newline이다.  \n",
    "\n",
    "with open(\"output3.txt\",\"w\", encoding=\"utf-8\") as f:\n",
    "    f.writelines(lines)\n",
    " \n",
    "\n"
   ]
  },
  {
   "cell_type": "code",
   "execution_count": null,
   "metadata": {},
   "outputs": [],
   "source": [
    "lines = [\"first line\\n\", \"second line\\n\", \"third line\\n\"]\n",
    "print(lines[2])"
   ]
  },
  {
   "cell_type": "code",
   "execution_count": null,
   "metadata": {},
   "outputs": [],
   "source": [
    "lines = [\"first line\", \"second line\", \"third line\"]\n",
    "\n",
    "with open(\"output4.txt\",\"w\") as f:\n",
    "    f.write(\"\\n\".join(lines))  #join으로 줄 바꾸기를 추가하고 write"
   ]
  },
  {
   "cell_type": "code",
   "execution_count": null,
   "metadata": {},
   "outputs": [],
   "source": [
    "with open(\"output3.txt\",\"r\") as f:\n",
    "    print(f.read())"
   ]
  },
  {
   "cell_type": "code",
   "execution_count": null,
   "metadata": {},
   "outputs": [],
   "source": [
    "#줄단위로 읽기\n",
    "#readline()  : 파일을 한번에 한 줄씩 읽음\n",
    "#readlines() : 파일 전체를 줄 단위로 끊어서 리스트에 저장 \n",
    "\n",
    "with open(\"output3.txt\",\"r\") as f:\n",
    "    #print(f.read())#한꺼번에 읽기\n",
    "    #print(f.readline())#한 라인 읽기\n",
    "    print(f.readlines())#파일 전체를 줄 단위로 끊어서 리스트에 저장\n"
   ]
  },
  {
   "cell_type": "code",
   "execution_count": null,
   "metadata": {},
   "outputs": [],
   "source": [
    "#파이썬의 특징 : file 객체에 반복문을 사용해서 read도 가능 \n",
    "with open(\"output3.txt\",\"r\") as f:\n",
    "    for lines in f:   #한 라인씩 읽음\n",
    "        print(line, end=' ') "
   ]
  },
  {
   "cell_type": "code",
   "execution_count": null,
   "metadata": {},
   "outputs": [],
   "source": [
    "with open(\"output3.txt\", \"r\") as f:\n",
    "    line = f.readline()\n",
    "    while line: #line이 ''이면 파일의 끝을 의미 \n",
    "        print(line, end='')\n",
    "        line = f.readline()"
   ]
  },
  {
   "cell_type": "code",
   "execution_count": null,
   "metadata": {},
   "outputs": [],
   "source": [
    "with open(\"output3.txt\",\"r\") as f:\n",
    "    for line in f.readlines(): #줄단위인데\n",
    "        print(line) #출력시 줄바꿈이 되고있음 end=''"
   ]
  },
  {
   "cell_type": "code",
   "execution_count": null,
   "metadata": {},
   "outputs": [],
   "source": [
    "# 파일에서 원하는 만큼의 문자 읽기\n",
    "f=open(\"dataSet.txt\")\n",
    "print(f.read(101))  #개수로 카운팅 시작점에서 한개 두개 \n",
    "print(f.read(2)) \n",
    "f.close()"
   ]
  },
  {
   "cell_type": "markdown",
   "metadata": {},
   "source": [
    "#### Lab 1 - dataSet.txt 파일을 만들고 #으로 시작하는 문장만 출력해 보기\n",
    "> 힌트 : startwith() "
   ]
  },
  {
   "cell_type": "code",
   "execution_count": null,
   "metadata": {},
   "outputs": [],
   "source": [
    "%%file dataSet.txt\n",
    "\n",
    "NumPy is the fundamental package for scientific computing with Python. It contains among other things:\n",
    "\n",
    "# comment1..\n",
    "\n",
    "  * a powerful N-dimensional array object\n",
    "  * sophisticated (broadcasting) functions\n",
    "  * tools for integrating C/C++ and Fortran code\n",
    "  * useful linear algebra, Fourier transform, and random number capabilities\n",
    "\n",
    "# comment2..\n",
    "\n",
    "Besides its obvious scientific uses, NumPy can also be used as an efficient multi-dimensional container of generic data. Arbitrary data-types can be defined. This allows NumPy to seamlessly and speedily integrate with a wide variety of databases.\n",
    "\n",
    "Numpy is licensed under the BSD license, enabling reuse with few restrictions.\n"
   ]
  },
  {
   "cell_type": "code",
   "execution_count": null,
   "metadata": {},
   "outputs": [],
   "source": [
    "for line in open(\"dataSet.txt,\"r\"):\n",
    "                 print(\"-\", line)\n",
    "                 if line.startswith"
   ]
  },
  {
   "cell_type": "code",
   "execution_count": null,
   "metadata": {},
   "outputs": [],
   "source": [
    "# 시작하는 문장만 출력해 보기 \n",
    "f=open(\"dataSet.txt\")\n",
    "print(f.read(680)) \n",
    "f.close()\n",
    "\n",
    "str.startswith(str=beg=0,end(len(\"dataSet.txt\")))"
   ]
  },
  {
   "cell_type": "code",
   "execution_count": null,
   "metadata": {},
   "outputs": [],
   "source": [
    "# 0~9까지 라인을 변경해 가면서 출력하는 파일 생성해 보기\n",
    "#방법1\n",
    "f = open(\"number.txt\")\n",
    "for k in range(10):\n",
    "    f.write(\"{}\\n\".format(k))\n",
    "f.close()"
   ]
  },
  {
   "cell_type": "code",
   "execution_count": null,
   "metadata": {},
   "outputs": [],
   "source": [
    "#방법2\n",
    "f = open(\"number2.txt\", \"w\")\n",
    "s = \"\\n\".join([str(k) for k in range(10)])\n",
    "f.write(s)\n",
    "f.close()"
   ]
  },
  {
   "cell_type": "code",
   "execution_count": null,
   "metadata": {},
   "outputs": [],
   "source": [
    "#방법3\n",
    "with open(\"number3.txt\", \"w\") as f:\n",
    "    s = \"\\n\".join([str(k) for k in range(10)])\n",
    "    f.write(s)                           "
   ]
  },
  {
   "cell_type": "code",
   "execution_count": null,
   "metadata": {},
   "outputs": [],
   "source": [
    "#방법4\n",
    "with open(\"number4.txt\", \"w\") as f:\n",
    "    s = [str(k)+\"\\n\" for k in range(10)]\n",
    "    f.writelines(s)\n",
    "    \n",
    "\n",
    "          "
   ]
  },
  {
   "cell_type": "code",
   "execution_count": 4,
   "metadata": {},
   "outputs": [
    {
     "ename": "IndentationError",
     "evalue": "expected an indented block (<ipython-input-4-3f3ed1b73c0a>, line 5)",
     "output_type": "error",
     "traceback": [
      "\u001b[1;36m  File \u001b[1;32m\"<ipython-input-4-3f3ed1b73c0a>\"\u001b[1;36m, line \u001b[1;32m5\u001b[0m\n\u001b[1;33m    f.writelines(str(k)+\"\\n)\u001b[0m\n\u001b[1;37m    ^\u001b[0m\n\u001b[1;31mIndentationError\u001b[0m\u001b[1;31m:\u001b[0m expected an indented block\n"
     ]
    }
   ],
   "source": [
    "#방법 4. 함축된 표현식을 일반 표현식의 코드로 전환해보기 \n",
    "\n",
    "with open(\"number4.txt\",\"w\") as f: \n",
    "    for k in range(10):\n",
    "    f.writelines(str(k)+\"\\n)"
   ]
  },
  {
   "cell_type": "code",
   "execution_count": null,
   "metadata": {},
   "outputs": [],
   "source": [
    "print(open(\"number.txt\").read())\n",
    "print(\"-------------------------\")\n",
    "print(open(\"number2.txt\").read())\n",
    "print(\"-------------------------\")\n",
    "print(open(\"number3.txt\").read())\n",
    "print(\"-------------------------\")\n",
    "print(open(\"number4.txt\").read())"
   ]
  },
  {
   "cell_type": "code",
   "execution_count": null,
   "metadata": {},
   "outputs": [],
   "source": [
    "%%file s.txt\n",
    "pig ham\n",
    "cat dog\n",
    "ham bird\n",
    "dog pig"
   ]
  },
  {
   "cell_type": "code",
   "execution_count": null,
   "metadata": {},
   "outputs": [],
   "source": [
    "ws = open(\"s.txt\").read().split()\n",
    "ws"
   ]
  },
  {
   "cell_type": "code",
   "execution_count": null,
   "metadata": {},
   "outputs": [],
   "source": [
    "for k in range(0,len(ws), 3):\n",
    "    print(\" \".join(ws[k:k+3]))"
   ]
  },
  {
   "cell_type": "code",
   "execution_count": 8,
   "metadata": {},
   "outputs": [
    {
     "name": "stdout",
     "output_type": "stream",
     "text": [
      "All's well that ends well.\n",
      "Bad news travels fast.\n",
      "Well begun is half done.\n",
      "Birds of a feather flock together.\n"
     ]
    },
    {
     "ename": "NameError",
     "evalue": "name 'k' is not defined",
     "output_type": "error",
     "traceback": [
      "\u001b[1;31m---------------------------------------------------------------------------\u001b[0m",
      "\u001b[1;31mNameError\u001b[0m                                 Traceback (most recent call last)",
      "\u001b[1;32m<ipython-input-8-8ac280012846>\u001b[0m in \u001b[0;36m<module>\u001b[1;34m()\u001b[0m\n\u001b[0;32m      2\u001b[0m     \u001b[0mprint\u001b[0m\u001b[1;33m(\u001b[0m\u001b[0mf\u001b[0m\u001b[1;33m.\u001b[0m\u001b[0mread\u001b[0m\u001b[1;33m(\u001b[0m\u001b[1;33m)\u001b[0m\u001b[1;33m)\u001b[0m\u001b[1;33m\u001b[0m\u001b[0m\n\u001b[0;32m      3\u001b[0m \u001b[1;32mfor\u001b[0m \u001b[0ma\u001b[0m \u001b[1;32min\u001b[0m \u001b[0mrange\u001b[0m\u001b[1;33m(\u001b[0m\u001b[1;36m10\u001b[0m\u001b[1;33m)\u001b[0m\u001b[1;33m:\u001b[0m\u001b[1;33m\u001b[0m\u001b[0m\n\u001b[1;32m----> 4\u001b[1;33m     \u001b[0mf\u001b[0m\u001b[1;33m.\u001b[0m\u001b[0mwrite\u001b[0m\u001b[1;33m(\u001b[0m\u001b[1;34m\"{}\\n\"\u001b[0m\u001b[1;33m.\u001b[0m\u001b[0mformat\u001b[0m\u001b[1;33m(\u001b[0m\u001b[0mk\u001b[0m\u001b[1;33m)\u001b[0m\u001b[1;33m)\u001b[0m\u001b[1;33m\u001b[0m\u001b[0m\n\u001b[0m",
      "\u001b[1;31mNameError\u001b[0m: name 'k' is not defined"
     ]
    }
   ],
   "source": [
    "with open(\"lineInsert.txt\",\"r\") as f:\n",
    "    print(f.read())\n",
    "for a in range(10):\n",
    "    f.write(\"{}\\n\".format(k))\n",
    "\n",
    "    \n",
    "\n"
   ]
  },
  {
   "cell_type": "markdown",
   "metadata": {},
   "source": [
    "### Lab 2 ? - 줄 앞에 번호붙이기 \n",
    "\n",
    "> 텍스트 파일을 열어서 각 줄의 앞에 번호를 매겨서 다시 파일에 쓰는 프로그램을 작성해보자<br>\n",
    "> 참조 파일명 : lineInsert.txt (dataSet 폴더에 있음)\n",
    "> output 파일명 : lineInsertout.txt 생성, 위치는 dataSet 폴더에 하기 \n",
    "\n",
    "> 힌트 : 존재하는 파일 read해서 새로운 파일 생성 및 출력 (라인 + 내용) \n",
    "\n"
   ]
  },
  {
   "cell_type": "code",
   "execution_count": null,
   "metadata": {},
   "outputs": [],
   "source": [
    "inFile=open(\"dataSet/lineInsert.txt\",\"r\")\n",
    "outFile=open(\"dataSet/insertInsertout.txt\",\"w\")\n",
    "\n",
    "#아하 리눅스 경로 쓰듯이 하면 되는구나!? \n",
    "\n",
    "# 입출력 API들은 자원 반환 필수 \n",
    "inFile.close() \n",
    "outFile.close() \n"
   ]
  },
  {
   "cell_type": "markdown",
   "metadata": {},
   "source": [
    "### Lab 3 ? - 매출 파일 처리\n",
    "> 텍스트 파일에 상점의 매출이 저장되어 있다. read해서 평균 매출과 총 매출을 계산한 후에 다른 파일에 출력하는 프로그램 작성해 보기\n"
   ]
  },
  {
   "cell_type": "code",
   "execution_count": 9,
   "metadata": {},
   "outputs": [],
   "source": [
    "### 텍스트 파일에 상점의 매출이 저장되어 있다. read해서 평균 매출과 총 매출을 계산한 후 다른 파일에 출력하는 프로그램 작성해 보기"
   ]
  },
  {
   "cell_type": "code",
   "execution_count": 18,
   "metadata": {},
   "outputs": [
    {
     "ename": "SyntaxError",
     "evalue": "invalid syntax (<ipython-input-18-be3ac001de99>, line 16)",
     "output_type": "error",
     "traceback": [
      "\u001b[1;36m  File \u001b[1;32m\"<ipython-input-18-be3ac001de99>\"\u001b[1;36m, line \u001b[1;32m16\u001b[0m\n\u001b[1;33m    inFile.close()\u001b[0m\n\u001b[1;37m         ^\u001b[0m\n\u001b[1;31mSyntaxError\u001b[0m\u001b[1;31m:\u001b[0m invalid syntax\n"
     ]
    }
   ],
   "source": [
    "inFile=open(\"dataSet/sales.txt\",\"r\")\n",
    "outFile=open(\"dataSet/sales.txt\",\"w\", encoding=\"utf-8\")\n",
    "\n",
    "sum=0    # 총 매출 \n",
    "count=0 #매출 횟수\n",
    "\n",
    "for line in inFile:\n",
    "    dailySale=int(line)\n",
    "    sum=sum+dailySale \n",
    "    count=count+1   #평균 일 매출을 구하기 위해서 \n",
    "     \n",
    "    \n",
    "outFile.write(\"총매출-\"+str(sum)+'\\n')\n",
    "outFile.write(\"평균 일 매출-\"+str(sum/count)\n",
    "            \n",
    "inFile.close()\n",
    "outFile.close() \n",
    "              \n",
    "\n",
    "\n"
   ]
  },
  {
   "cell_type": "code",
   "execution_count": 17,
   "metadata": {},
   "outputs": [
    {
     "ename": "SyntaxError",
     "evalue": "invalid syntax (<ipython-input-17-166c59b9ad16>, line 3)",
     "output_type": "error",
     "traceback": [
      "\u001b[1;36m  File \u001b[1;32m\"<ipython-input-17-166c59b9ad16>\"\u001b[1;36m, line \u001b[1;32m3\u001b[0m\n\u001b[1;33m    for i in a\u001b[0m\n\u001b[1;37m               ^\u001b[0m\n\u001b[1;31mSyntaxError\u001b[0m\u001b[1;31m:\u001b[0m invalid syntax\n"
     ]
    }
   ],
   "source": [
    "a=1,2\n",
    "i=1,2,3,4\n",
    "for i in a \n",
    "print(i)"
   ]
  },
  {
   "cell_type": "code",
   "execution_count": null,
   "metadata": {},
   "outputs": [],
   "source": [
    "avrsales=open(\"dataSet/sales.txt\",\"r\")\n",
    "totalsales=open(\"dataSet/lineInsertout.txt\",\"w\")\n",
    "\n",
    "with open(\".txt\", \"w\") as f:\n",
    "    s = \"\\n\".join([str(k) for k in range(10)])\n",
    "    f.write(s)      \n"
   ]
  }
 ],
 "metadata": {
  "kernelspec": {
   "display_name": "Python 3",
   "language": "python",
   "name": "python3"
  },
  "language_info": {
   "codemirror_mode": {
    "name": "ipython",
    "version": 3
   },
   "file_extension": ".py",
   "mimetype": "text/x-python",
   "name": "python",
   "nbconvert_exporter": "python",
   "pygments_lexer": "ipython3",
   "version": "3.6.5"
  }
 },
 "nbformat": 4,
 "nbformat_minor": 2
}
