{
 "cells": [
  {
   "cell_type": "code",
   "execution_count": 1,
   "metadata": {},
   "outputs": [
    {
     "data": {
      "text/plain": [
       "str"
      ]
     },
     "execution_count": 1,
     "metadata": {},
     "output_type": "execute_result"
    }
   ],
   "source": [
    " type('안녕')"
   ]
  },
  {
   "cell_type": "code",
   "execution_count": 2,
   "metadata": {},
   "outputs": [
    {
     "data": {
      "text/plain": [
       "5"
      ]
     },
     "execution_count": 2,
     "metadata": {},
     "output_type": "execute_result"
    }
   ],
   "source": [
    "len(\"안녕하세요\")"
   ]
  },
  {
   "cell_type": "code",
   "execution_count": 3,
   "metadata": {},
   "outputs": [
    {
     "data": {
      "text/plain": [
       "int"
      ]
     },
     "execution_count": 3,
     "metadata": {},
     "output_type": "execute_result"
    }
   ],
   "source": [
    "type(len(\"안녕하세요\"))"
   ]
  },
  {
   "cell_type": "code",
   "execution_count": 4,
   "metadata": {},
   "outputs": [
    {
     "data": {
      "text/plain": [
       "3.1423"
      ]
     },
     "execution_count": 4,
     "metadata": {},
     "output_type": "execute_result"
    }
   ],
   "source": [
    "float(3.1423)"
   ]
  },
  {
   "cell_type": "code",
   "execution_count": 9,
   "metadata": {},
   "outputs": [
    {
     "name": "stdout",
     "output_type": "stream",
     "text": [
      "<class 'str'> 3.14\n"
     ]
    }
   ],
   "source": [
    "str()\n",
    "a=str(3.14)\n",
    "print(type(a),a)"
   ]
  },
  {
   "cell_type": "code",
   "execution_count": 12,
   "metadata": {},
   "outputs": [
    {
     "name": "stdout",
     "output_type": "stream",
     "text": [
      "<class 'str'> 3.14\n"
     ]
    }
   ],
   "source": [
    "a=str(3.14)\n",
    "print(type(a),a)"
   ]
  },
  {
   "cell_type": "code",
   "execution_count": 15,
   "metadata": {},
   "outputs": [
    {
     "name": "stdout",
     "output_type": "stream",
     "text": [
      "안녕하세요안녕하세요안녕하세요"
     ]
    }
   ],
   "source": [
    "print(\"안녕하세요\"*3,end='')"
   ]
  },
  {
   "cell_type": "code",
   "execution_count": 16,
   "metadata": {},
   "outputs": [],
   "source": [
    "### array 배열   여러 데이터 복수형의 데이터 "
   ]
  },
  {
   "cell_type": "code",
   "execution_count": 21,
   "metadata": {},
   "outputs": [
    {
     "name": "stdout",
     "output_type": "stream",
     "text": [
      "안\n",
      "안녕\n",
      "안녕하세\n"
     ]
    }
   ],
   "source": [
    "print(\"안녕하세요\"[0])\n",
    "print(\"안녕하세요\"[0:2])\n",
    "print(\"안녕하세요\"[:-1])\n"
   ]
  },
  {
   "cell_type": "markdown",
   "metadata": {},
   "source": [
    "### inch 단위를 입력받아 cm 단위 구하는 코드를 작성하세요 "
   ]
  },
  {
   "cell_type": "code",
   "execution_count": 28,
   "metadata": {},
   "outputs": [
    {
     "name": "stdout",
     "output_type": "stream",
     "text": [
      "31.7952\n"
     ]
    }
   ],
   "source": [
    "cm = input(\"inch를 입력하세요\")   #경우의 수를 항상 생각 혜경쌤\n",
    "result=float(cm) * 2.56\n",
    "print(result)"
   ]
  },
  {
   "cell_type": "markdown",
   "metadata": {},
   "source": [
    "### 킬로그램 단위 입력받아 파운드 단위 구하는 코드를 작성하세요 "
   ]
  },
  {
   "cell_type": "code",
   "execution_count": 30,
   "metadata": {},
   "outputs": [
    {
     "name": "stdout",
     "output_type": "stream",
     "text": [
      "26.448\n"
     ]
    }
   ],
   "source": [
    "found = input(\"킬로그램을 파운드로 변환! 킬로그램입력 \")\n",
    "result=float(found) * 2.204\n",
    "print(result)"
   ]
  },
  {
   "cell_type": "markdown",
   "metadata": {},
   "source": [
    "### 원의 반지름 입력받아 원의 둘레와 넓이를 구하는 코드를 작성하세요 "
   ]
  },
  {
   "cell_type": "code",
   "execution_count": 36,
   "metadata": {},
   "outputs": [
    {
     "name": "stdout",
     "output_type": "stream",
     "text": [
      "150.79644737231007\n"
     ]
    }
   ],
   "source": [
    "import math\n",
    "math.pi\n",
    "ri=input(\"원의 둘레 구해보자\")\n",
    "result=float(ri)*2*math.pi\n",
    "print(result)"
   ]
  },
  {
   "cell_type": "markdown",
   "metadata": {},
   "source": [
    "배열 = list => 추가,수정,삭제,조회 \n",
    "       튜플 => x        조회 "
   ]
  },
  {
   "cell_type": "code",
   "execution_count": 54,
   "metadata": {},
   "outputs": [
    {
     "name": "stdout",
     "output_type": "stream",
     "text": [
      "['딸기', '키위', '포도']\n",
      "사과 딸기\n",
      "사과 바나나 딸기 키위 포도 "
     ]
    }
   ],
   "source": [
    "members=['사과','바나나','딸기','키위','포도']\n",
    "print(member[-3:])\n",
    "print(member[0],member[2])\n",
    "for m in members: \n",
    "    print(m,end=' ')\n",
    "\n"
   ]
  },
  {
   "cell_type": "code",
   "execution_count": null,
   "metadata": {},
   "outputs": [],
   "source": [
    "# 리스트  #튜플  # 딕셔너리 # 셋업 "
   ]
  },
  {
   "cell_type": "markdown",
   "metadata": {},
   "source": [
    "### 교재 77 page 6번 7번 문제 풀이 "
   ]
  },
  {
   "cell_type": "code",
   "execution_count": 60,
   "metadata": {},
   "outputs": [
    {
     "name": "stdout",
     "output_type": "stream",
     "text": [
      "봄\n",
      "여름\n",
      "가을\n",
      "겨울\n"
     ]
    }
   ],
   "source": [
    "season=['봄','여름','가을','겨울']\n",
    "for s in season:\n",
    "    print(s)"
   ]
  },
  {
   "cell_type": "code",
   "execution_count": 2,
   "metadata": {},
   "outputs": [
    {
     "name": "stdout",
     "output_type": "stream",
     "text": [
      "k 75\n",
      "코드값 100은 d\n"
     ]
    }
   ],
   "source": [
    "code=input(\"코드값을 출력해주마\")\n",
    "print(code,ord('K'))\n",
    "print('코드값 100은',chr(100))"
   ]
  },
  {
   "cell_type": "code",
   "execution_count": 1,
   "metadata": {},
   "outputs": [
    {
     "name": "stdout",
     "output_type": "stream",
     "text": [
      "hi\n"
     ]
    }
   ],
   "source": [
    "print(\"hi\")"
   ]
  },
  {
   "cell_type": "code",
   "execution_count": 4,
   "metadata": {},
   "outputs": [
    {
     "name": "stdout",
     "output_type": "stream",
     "text": [
      "hi20\n"
     ]
    }
   ],
   "source": [
    "print(\"hi\"+str(20))"
   ]
  },
  {
   "cell_type": "code",
   "execution_count": 12,
   "metadata": {},
   "outputs": [
    {
     "name": "stdout",
     "output_type": "stream",
     "text": [
      "2\n",
      "3\n",
      "2.5\n",
      "12000\n"
     ]
    }
   ],
   "source": [
    "print(int(2.94)) #str>>int   float(큰 데이터)>> int(작은 데이터) (데이터 손실이 발생함) \n",
    "print(round(2.54))\n",
    "print(round(2.54,1))\n",
    "print(round(12345,-3))\n"
   ]
  },
  {
   "cell_type": "code",
   "execution_count": 14,
   "metadata": {},
   "outputs": [
    {
     "name": "stdout",
     "output_type": "stream",
     "text": [
      "와라\n"
     ]
    }
   ],
   "source": [
    "age=int(input(\"너 몇살이냐\"))\n",
    "if age<=19: \n",
    "    print(\"가라\")\n",
    "print(\"와라\")"
   ]
  },
  {
   "cell_type": "code",
   "execution_count": 18,
   "metadata": {},
   "outputs": [
    {
     "name": "stdout",
     "output_type": "stream",
     "text": [
      "50보다 크다\n"
     ]
    }
   ],
   "source": [
    "a=150\n",
    "if a==50: \n",
    "    print(\"50입니다\")\n",
    "\n",
    "if a<50: \n",
    "    print(\"50보다 작다\")\n",
    "    \n",
    "if a>50: \n",
    "    print(\"50보다 크다\")\n",
    "\n"
   ]
  },
  {
   "cell_type": "code",
   "execution_count": null,
   "metadata": {},
   "outputs": [],
   "source": [
    "and \n",
    "or \n",
    "not 조건을 반대로 "
   ]
  },
  {
   "cell_type": "code",
   "execution_count": 19,
   "metadata": {},
   "outputs": [
    {
     "name": "stdout",
     "output_type": "stream",
     "text": [
      "ok\n"
     ]
    }
   ],
   "source": [
    "a=3 \n",
    "if a>1 and a<10: \n",
    "    print(\"ok\")"
   ]
  },
  {
   "cell_type": "code",
   "execution_count": 21,
   "metadata": {},
   "outputs": [
    {
     "name": "stdout",
     "output_type": "stream",
     "text": [
      "ok\n"
     ]
    }
   ],
   "source": [
    "a=5  \n",
    "b=4 \n",
    "if a==5 or b>3: \n",
    "    print(\"ok\")"
   ]
  },
  {
   "cell_type": "code",
   "execution_count": 24,
   "metadata": {},
   "outputs": [
    {
     "name": "stdout",
     "output_type": "stream",
     "text": [
      "애들은 가라\n",
      "공부해야지\n",
      "공부해야지\n"
     ]
    }
   ],
   "source": [
    "age=16 \n",
    "if age<19: \n",
    "    print(\"애들은 가라\")\n",
    "    print(\"공부해야지\")\n",
    "    \n",
    "    \n",
    "age=24\n",
    "if age<19: \n",
    "    print(\"애들은 가라\")\n",
    "print(\"공부해야지\")"
   ]
  },
  {
   "cell_type": "code",
   "execution_count": null,
   "metadata": {},
   "outputs": [],
   "source": [
    "블록구조    문자열 포매팅 다시 공부 "
   ]
  },
  {
   "cell_type": "code",
   "execution_count": null,
   "metadata": {},
   "outputs": [],
   "source": [
    "import random \n",
    "\n",
    "rand=(random.randrange(1,100,1))\n",
    "t_count=0\n",
    "t_point=0\n",
    "\n",
    "while(rand != num):\n",
    "\n",
    "    num=int(input(\"숫자를 맞추라우\"))    \n",
    "    \n",
    "    if num>rand: \n",
    "        print(\"더 낮게 down\")\n",
    "                \n",
    "    elif num<rand: \n",
    "        print(\"더 높게 up\")\n",
    "       \n",
    "    t_count=t_count+1\n",
    "\n",
    "else: \n",
    "    print(\"축하합니다\",\"당신은\",t_count,\"만에 맞추셨습니다\",\"따라서 당신의 포인트는\",t_point,\"입니다\")\n"
   ]
  },
  {
   "cell_type": "code",
   "execution_count": null,
   "metadata": {},
   "outputs": [],
   "source": [
    "##쌤 풀이 \n",
    "import random \n",
    "\n",
    "com=random.randrange(1,100)\n",
    "while True:  #무조건 실행이 되어야 한다는 뜻 \n",
    "my=int(input(\"숫자 입력하라우(1~100)\"))\n",
    "if my<1 or my>100: \n",
    "    print(\"1~100을 입력해주세요\")\n",
    "    \n",
    "else:     \n",
    "    if my>com: \n",
    "        print(\"보다 작은 숫자 입력해주세요\")\n",
    "        \n",
    "    elif my<com: \n",
    "        print(\"보다 큰 숫자를 입력해주세요\")\n",
    "        \n",
    "    else: \n",
    "        print(\"맞추었다\")\n",
    "        break #근접해 있는 Loop 실행 종료 \n",
    "\n",
    "print(\"===================\")\n",
    "print(\"축하합니다 총 xx번에 맞추셨습니다.\")"
   ]
  },
  {
   "cell_type": "code",
   "execution_count": null,
   "metadata": {},
   "outputs": [],
   "source": []
  },
  {
   "cell_type": "code",
   "execution_count": null,
   "metadata": {},
   "outputs": [],
   "source": []
  },
  {
   "cell_type": "code",
   "execution_count": null,
   "metadata": {},
   "outputs": [],
   "source": []
  },
  {
   "cell_type": "code",
   "execution_count": null,
   "metadata": {},
   "outputs": [],
   "source": [
    "##쌤 풀이 \n",
    "import random \n",
    "\n",
    "com=random.randrange(1,100)\n",
    "count=0 \n",
    "\n",
    "\n",
    "while True:  #무조건 실행이 되어야 한다는 뜻 \n",
    "    my=int(input(\"숫자 입력하라우(1~100)\"))\n",
    "    count+=1\n",
    "    if my<1 or my>100: \n",
    "        print(\"1~100을 입력해주세요\")\n",
    "    \n",
    "    else:     \n",
    "        if my>com: \n",
    "            print(\"보다 작은 숫자 입력해주세요\")\n",
    "        \n",
    "        elif my<com: \n",
    "            print(\"보다 큰 숫자를 입력해주세요\")\n",
    "        \n",
    "        else: \n",
    "            print(\"맞추었다\")\n",
    "            break #근접해 있는 Loop 실행 종료 \n",
    "\n",
    "print(\"===================\")\n",
    "print(\"COMnum=\",com)\n",
    "print(\"축하합니다 총\",count, \"번에 맞추셨습니다.\")"
   ]
  },
  {
   "cell_type": "code",
   "execution_count": null,
   "metadata": {},
   "outputs": [],
   "source": [
    "# 지면 게임 종료 \n",
    "# 비기면 다시 입력 \n",
    "# 이기면 게임 계속 or 종료 \n",
    "# 계속(y) - 상금 \n",
    "\n",
    "import random  ### 기초적인 걸로 만든 가위바위보 게임 \n",
    "\n",
    "com=random.randrange(1,3)\n",
    "count=0 \n",
    "price=500\n",
    "\n",
    "while True: \n",
    "    user=int(input(\"가위(1),바위(2),보(3) =>\"))\n",
    "    if user<1 or user>3: \n",
    "        print(\"1~3을 입력하세요\")\n",
    "        continue #가장 인접한 loop 조건식으로 이동 \n",
    "\n",
    "    else: \n",
    "        if com==1:\n",
    "            if user==2:\n",
    "                print(\"사용자가 이겼다\",\"상금=\",price*2) \n",
    "                \n",
    "            elif user==3:\n",
    "                print(\"사용자가 졌다\")\n",
    "                break\n",
    "\n",
    "            else:\n",
    "                print(\"비겼다\")\n",
    "                continue\n",
    "\n",
    "        elif com==2:\n",
    "            if user==3:\n",
    "                print(\"사용자가 이겼다\",\"상금=\",price*2) \n",
    "            elif user==1:\n",
    "                print(\"사용자가 졌다\")\n",
    "                break\n",
    "            else:\n",
    "                print(\"비겼다\")\n",
    "                continue\n",
    "\n",
    "        elif com==3:\n",
    "            if user==1:\n",
    "                print(\"사용자가 이겼다\",\"상금=\",price*2) \n",
    "            elif user==2:\n",
    "                print(\"사용자가 졌다\")\n",
    "                break\n",
    "\n",
    "            else:\n",
    "                print(\"비겼다\")\n",
    "                continue\n",
    "\n",
    "        "
   ]
  },
  {
   "cell_type": "markdown",
   "metadata": {},
   "source": [
    "### 가위바위보 게임 "
   ]
  },
  {
   "cell_type": "code",
   "execution_count": null,
   "metadata": {},
   "outputs": [],
   "source": [
    "# 지면 게임 종료 \n",
    "# 비기면 다시 입력 \n",
    "# 이기면 게임 계속 or 종료 \n",
    "# 계속(y) - 상금 \n",
    "\n",
    "import random  ### 기초적인 걸로 만든 가위바위보 게임 \n",
    "\n",
    "com=random.randrange(1,3)\n",
    "count=0 \n",
    "price=500\n",
    "\n",
    "while True: \n",
    "    user=int(input(\"가위(1),바위(2),보(3) =>\"))\n",
    "    if user<1 or user>3: \n",
    "        print(\"1~3을 입력하세요\")\n",
    "        continue #가장 인접한 loop 조건식으로 이동 \n",
    "\n",
    "    else: \n",
    "        if com==1:\n",
    "            if user==2:\n",
    "                print(\"사용자가 이겼다\",\"상금=\",price*2) \n",
    "                \n",
    "            elif user==3:\n",
    "                print(\"사용자가 졌다\")\n",
    "                break\n",
    "\n",
    "            else:\n",
    "                print(\"비겼다\")\n",
    "                continue\n",
    "\n",
    "        elif com==2:\n",
    "            if user==3:\n",
    "                print(\"사용자가 이겼다\",\"상금=\",price*2) \n",
    "            elif user==1:\n",
    "                print(\"사용자가 졌다\")\n",
    "                break\n",
    "            else:\n",
    "                print(\"비겼다\")\n",
    "                continue\n",
    "\n",
    "        elif com==3:\n",
    "            if user==1:\n",
    "                print(\"사용자가 이겼다\",\"상금=\",price*2) \n",
    "            elif user==2:\n",
    "                print(\"사용자가 졌다\")\n",
    "                break\n",
    "\n",
    "            else:\n",
    "                print(\"비겼다\")\n",
    "                continue\n",
    "\n",
    "        "
   ]
  },
  {
   "cell_type": "code",
   "execution_count": null,
   "metadata": {},
   "outputs": [],
   "source": []
  },
  {
   "cell_type": "code",
   "execution_count": null,
   "metadata": {},
   "outputs": [],
   "source": []
  },
  {
   "cell_type": "code",
   "execution_count": null,
   "metadata": {},
   "outputs": [],
   "source": []
  },
  {
   "cell_type": "code",
   "execution_count": null,
   "metadata": {},
   "outputs": [],
   "source": []
  }
 ],
 "metadata": {
  "kernelspec": {
   "display_name": "Python 3",
   "language": "python",
   "name": "python3"
  },
  "language_info": {
   "codemirror_mode": {
    "name": "ipython",
    "version": 3
   },
   "file_extension": ".py",
   "mimetype": "text/x-python",
   "name": "python",
   "nbconvert_exporter": "python",
   "pygments_lexer": "ipython3",
   "version": "3.6.5"
  }
 },
 "nbformat": 4,
 "nbformat_minor": 2
}
