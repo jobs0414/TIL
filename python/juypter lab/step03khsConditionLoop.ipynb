{
 "cells": [
  {
   "cell_type": "markdown",
   "metadata": {},
   "source": [
    "### * 조건문 & 반복문을 이용한 프로그램 응용력 향상하기\n"
   ]
  },
  {
   "cell_type": "code",
   "execution_count": null,
   "metadata": {},
   "outputs": [],
   "source": [
    "# 윤년 프로그램을 통한 연산자 이해하기\n",
    "\n",
    "year = int(input(\"연도를 입력하시오: \"))\n",
    "\n",
    "if ( (year % 4 == 0 and year % 100 != 0) or year % 400 == 0):\n",
    "    print(year, \"년은 윤년입니다.\")\n",
    "else :\n",
    "    print(year, \"년은 윤년이 아닙니다.\")"
   ]
  },
  {
   "cell_type": "code",
   "execution_count": 2,
   "metadata": {},
   "outputs": [
    {
     "name": "stdout",
     "output_type": "stream",
     "text": [
      "월의 날수는 29일\n"
     ]
    }
   ],
   "source": [
    "# 다중 조건식\n",
    "\n",
    "month =int(input(\"월을 입력하시오: \"))\n",
    "\n",
    "\n",
    "if (month==2): \n",
    "    print(\"월의 날수는 29일\")\n",
    "elif (month==4 or month==6 or month==10):\n",
    "    print(\"월의 날수는 30일\")\n",
    "else : \n",
    "    print(\"월의 날수는 31일\")"
   ]
  },
  {
   "cell_type": "markdown",
   "metadata": {},
   "source": [
    "### Lab1 - 문자열의 중간 문자를 추출해 보기<br>\n",
    "문자열의 중앙에 있는 문자를 출력한다. 예를 들어서 문자열이 \"weekday\"이라면 중앙의 문자는 \"k\"가 된다.<br>\n",
    "하지만 만약 문자열이 짝수개의 문자를 가지고 있다면 중앙의 2개의 글자를 출력한다.<br>\n",
    "예를 들어서 \"string\" 문자열에서는 \"ri\"를 반환한다. "
   ]
  },
  {
   "cell_type": "code",
   "execution_count": 83,
   "metadata": {},
   "outputs": [
    {
     "name": "stdout",
     "output_type": "stream",
     "text": [
      "7\n",
      "k\n"
     ]
    }
   ],
   "source": [
    "str = input(\"문자열 입력:\")\n",
    "\n",
    "length = len(str)\n",
    "\n",
    "print(length)\n",
    "\n",
    "mid_length = int(length/2)\n",
    "\n",
    "if (length%2 == 1):\n",
    "    \n",
    "    print(str[mid_length])\n",
    "else:\n",
    "    print(str[mid_length-1]+str[mid_length])\n",
    "    \n",
    "    \n",
    "    \n",
    "\n",
    "    \n",
    "    \n"
   ]
  },
  {
   "cell_type": "markdown",
   "metadata": {},
   "source": [
    "### Lab2 - 임금 계산해 보기\n",
    "사용자에게 근무 시간과 시간당 임급을 물어보고, 주당 근무 시간이 40시간을 넘으면 1.5배의 임금을 지급해야 한다고 가정할 경우<br> \n",
    "이번주에 받는 총임금을 계산하는 프로그램을 만들어 보자"
   ]
  },
  {
   "cell_type": "code",
   "execution_count": 1,
   "metadata": {},
   "outputs": [
    {
     "name": "stdout",
     "output_type": "stream",
     "text": [
      "100\n"
     ]
    }
   ],
   "source": [
    "workhour = int(input(\"근무 시간:\"))\n",
    "payforhour= int(input(\"시간당 임금:\"))\n",
    "\n",
    "if (workhour >= 40):\n",
    "    pay = workhour*payforhour*1.5\n",
    "else:\n",
    "    pay = workhour*payforhour\n",
    "    \n",
    "print(int(pay))"
   ]
  },
  {
   "cell_type": "markdown",
   "metadata": {},
   "source": [
    "### Lab3 - 팩토리얼 계산하기\n",
    ">반복문을 활용하여 팩토리얼 계산해 보기<br>\n",
    "for문과 while문을 활용하여 각각 만들어 보기<br>\n",
    "팩토리얼 n!은 1~n까지의 정수를 모두 곱한 것을 의미한다<br>\n",
    "n! = 1*2*3*...(n-1)*n\n",
    "\n",
    ">힌트 : range() 함수를 이용"
   ]
  },
  {
   "cell_type": "code",
   "execution_count": 334,
   "metadata": {},
   "outputs": [
    {
     "name": "stdout",
     "output_type": "stream",
     "text": [
      "5040\n"
     ]
    }
   ],
   "source": [
    "n = int(input(\"팩토리얼 계산 숫자 입력:\"))\n",
    "factorial = 1;\n",
    "for i in range(1,n+1):\n",
    "    factorial = factorial * i\n",
    "    \n",
    "print(factorial)"
   ]
  },
  {
   "cell_type": "markdown",
   "metadata": {},
   "source": [
    "### Lab4 - turtle 모듈을 이해하고 나만의 Art 만들어 보기\n",
    ">https://docs.python.org/3.6/search.html?q=turtle&check_keywords=yes&area=default\n",
    "\n",
    ">참조 사이트에서 지원하는 함수를 활용해서 작업해보기"
   ]
  },
  {
   "cell_type": "code",
   "execution_count": 1,
   "metadata": {},
   "outputs": [],
   "source": [
    "import turtle\n",
    "\n",
    "for i in range(3):\t\t# 3번 반복한다. \n",
    "    turtle.left(20)\t\t# 왼쪽으로 20도 회전한다. \n",
    "\n",
    "    turtle.forward(50)\t# 50픽셀 전진한다. \n",
    "    turtle.left(90)\n",
    "    turtle.forward(50)\n",
    "    turtle.left(90)\n",
    "    turtle.forward(50)\n",
    "    turtle.left(90)\n",
    "    turtle.forward(50)\n",
    "    turtle.left(90)"
   ]
  },
  {
   "cell_type": "markdown",
   "metadata": {},
   "source": [
    "### Lab5 - 계좌번호 처리하기\n",
    "> 인터넷 뱅킹을 사용하다보면 계좌번호를 입력할 때, \"312-02-1234567\"과 사용자로부터 \"-\"가 포함된 계좌 번호를 받아서 \"-\"을 삭제한 문자열을 만들어보자. \n"
   ]
  },
  {
   "cell_type": "code",
   "execution_count": 20,
   "metadata": {},
   "outputs": [
    {
     "name": "stdout",
     "output_type": "stream",
     "text": [
      "481174"
     ]
    }
   ],
   "source": [
    "accountnum = input(\"계좌번호 입력:\")\n",
    "\n",
    "str = accountnum.split('-')\n",
    "\n",
    "for i in range(0,3):\n",
    "    print(str[i], end = \"\")    \n"
   ]
  },
  {
   "cell_type": "markdown",
   "metadata": {},
   "source": [
    "### Lab6 - 비밀번호 만들기\n",
    ">API에서 직접 검색 및 착출해서 활용해 보기(응용)<br>\n",
    ">실행시마다 반드시 다른 비밀번호가 생성<br>\n",
    ">단, 합의 사항 - 알파벳과 숫자 포함<br>\n"
   ]
  },
  {
   "cell_type": "code",
   "execution_count": 69,
   "metadata": {},
   "outputs": [
    {
     "name": "stdout",
     "output_type": "stream",
     "text": [
      "3C1IQ3H5"
     ]
    }
   ],
   "source": [
    "import random\n",
    "\n",
    "n = random.randint(7,15)\n",
    "for i in range(1,n):\n",
    "    chr_random = random.randint(65,90)\n",
    "    num_random = random.randint(1,9)\n",
    "    ran_random =[chr(chr_random), num_random]\n",
    "    choice_random = random.randint(0,1)\n",
    "    print(ran_random[choice_random], end = \"\")"
   ]
  },
  {
   "cell_type": "code",
   "execution_count": null,
   "metadata": {},
   "outputs": [],
   "source": []
  },
  {
   "cell_type": "code",
   "execution_count": null,
   "metadata": {},
   "outputs": [],
   "source": []
  },
  {
   "cell_type": "code",
   "execution_count": null,
   "metadata": {},
   "outputs": [],
   "source": []
  }
 ],
 "metadata": {
  "kernelspec": {
   "display_name": "Python 3",
   "language": "python",
   "name": "python3"
  },
  "language_info": {
   "codemirror_mode": {
    "name": "ipython",
    "version": 3
   },
   "file_extension": ".py",
   "mimetype": "text/x-python",
   "name": "python",
   "nbconvert_exporter": "python",
   "pygments_lexer": "ipython3",
   "version": "3.6.5"
  }
 },
 "nbformat": 4,
 "nbformat_minor": 2
}
