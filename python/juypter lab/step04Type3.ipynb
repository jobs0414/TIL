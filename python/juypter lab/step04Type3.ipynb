{
 "cells": [
  {
   "cell_type": "markdown",
   "metadata": {},
   "source": [
    "# * 리스트, 튜블, 딕셔너리, 셋 학습"
   ]
  },
  {
   "cell_type": "markdown",
   "metadata": {},
   "source": [
    "### 1. 리스트 클래스\n",
    ">list1 = list()\t\t# 공백 리스트 생성<br>\n",
    "list2 = list(\"Hello\")\t\t# 문자 H, e, l, l, o를 요소로 가지는 리스트 생성<br>\n",
    "list3 = list(range(0, 5))\t# 0, 1, 2, 3, 4를 요소가 가지는 리스트 생성<br>\n",
    "list4 = [ ] \t\t\t# 공백 리스트 생성<br>\n",
    "list5 = [ \"H\", \"e\", \"l\", \"l\", \"o\" ] \t# 문자 H, e, l, l, o를 요소로 가지는 리스트<br> \n",
    "list6 = [ 0, 1, 2, 3, 4 ]# 0, 1, 2, 3, 4를 요소가 가지는 리스트 생성<br>\n"
   ]
  },
  {
   "cell_type": "markdown",
   "metadata": {},
   "source": [
    "### 2. 복잡한 list\n",
    ">list1 = [12, \"dog\", 180.14] \t\t\t\t# 혼합 자료형 <br>\n",
    "list2 =  [[\"Seoul\", 10], [\"Paris\", 12], [\"London\", 50]] \t# 내장 리스트<br> \n",
    "list3 = [\"aaa\", [\"bbb\", [\"ccc\", [\"ddd\", \"eee\", 45]]]] \t# 내장 리스트 <br>\n"
   ]
  },
  {
   "cell_type": "markdown",
   "metadata": {},
   "source": [
    "### 3. 튜플\n",
    "> 변경 불가능한 리스트, 연산 사용 가능<br>\n",
    "> tuple1 = ()<br>\n",
    "> tuple2 = tuple()<br>\n",
    "> t1 = (1, 2, 3, 4, 5)<br>\n",
    "> t2 = (\"red\", \"green\", \"blue\")<br>\n",
    "> t = t1 + t2 <br>\n",
    "> t3 = 'test', 'test1', 'test2' #괄호없이 나영될 객체들도 튜플로 간주"
   ]
  },
  {
   "cell_type": "markdown",
   "metadata": {},
   "source": [
    "### 4. 셋\n",
    "> 중복되지 않는 순서 없는 항목들 <br>\n",
    "> set1 = {2, 1, 3} <br>\n",
    "> set2 = set()"
   ]
  },
  {
   "cell_type": "markdown",
   "metadata": {},
   "source": [
    "####  부분 집합 연산 & 합집합 연산\n",
    "> issubset() - 부분 집합 여부 검사<br>\n",
    "> issuperset() - 상위집합 여부 검사<br>\n",
    "\n",
    "> union() - 합집합 <br>\n",
    "> intersection() - 교집합, & 연산자 사용 가능<br>\n",
    "> difference() - 차집합, - 연산자 사용 가능<br>"
   ]
  },
  {
   "cell_type": "code",
   "execution_count": 4,
   "metadata": {},
   "outputs": [
    {
     "data": {
      "text/plain": [
       "True"
      ]
     },
     "execution_count": 4,
     "metadata": {},
     "output_type": "execute_result"
    }
   ],
   "source": [
    "# 부분 집합 연산\n",
    "# 파이썬에선 boolean 값은 True/False 표현\n",
    "# java, js - true/false 표현\n",
    "A = {1, 2, 3}\n",
    "B = {1, 2, 3}\n",
    "A == B "
   ]
  },
  {
   "cell_type": "code",
   "execution_count": 4,
   "metadata": {},
   "outputs": [
    {
     "data": {
      "text/plain": [
       "True"
      ]
     },
     "execution_count": 4,
     "metadata": {},
     "output_type": "execute_result"
    }
   ],
   "source": [
    "# 부분 집합 연산\n",
    "A = {1, 2, 3, 4, 5}\n",
    "B = {1, 2, 3}\n",
    "B < A\n"
   ]
  },
  {
   "cell_type": "code",
   "execution_count": 18,
   "metadata": {},
   "outputs": [
    {
     "name": "stdout",
     "output_type": "stream",
     "text": [
      "True\n",
      "False\n"
     ]
    }
   ],
   "source": [
    "# 부분 집합 연산\n",
    "A = {1, 2, 3, 4, 5}\n",
    "B = {1, 2, 3}\n",
    "print(B.issubset(A))\n",
    "print(A.issubset(B))"
   ]
  },
  {
   "cell_type": "code",
   "execution_count": 19,
   "metadata": {},
   "outputs": [
    {
     "data": {
      "text/plain": [
       "{1, 2, 3, 4, 5, 8}"
      ]
     },
     "execution_count": 19,
     "metadata": {},
     "output_type": "execute_result"
    }
   ],
   "source": [
    "# 집합 연산\n",
    "A = {1, 2, 3}\n",
    "B = {3, 4, 5}\n",
    "\n",
    "A | B"
   ]
  },
  {
   "cell_type": "code",
   "execution_count": 15,
   "metadata": {},
   "outputs": [
    {
     "data": {
      "text/plain": [
       "{3}"
      ]
     },
     "execution_count": 15,
     "metadata": {},
     "output_type": "execute_result"
    }
   ],
   "source": [
    "A & B"
   ]
  },
  {
   "cell_type": "code",
   "execution_count": 16,
   "metadata": {},
   "outputs": [
    {
     "data": {
      "text/plain": [
       "{1, 2}"
      ]
     },
     "execution_count": 16,
     "metadata": {},
     "output_type": "execute_result"
    }
   ],
   "source": [
    "A - B"
   ]
  },
  {
   "cell_type": "markdown",
   "metadata": {},
   "source": [
    "### Lab1 ?- 파티 동시 참석자 알아내기\n",
    "> [문제] <br>\n",
    "> 파티에 참석한 사람들의 명단이 세트 A와 B에 각각 저장되어 있다.<br>\n",
    "> 2개 파티에 모두 참석한 사람들의 명단을 출력하려면 어떻게 해야 할까? <br>\n",
    "\n",
    "> [출력 결과] <br>\n",
    "> 2개의 파티에 모두 참석한 사람은 다음과 같습니다. <br>\n",
    "> {'Park'}"
   ]
  },
  {
   "cell_type": "code",
   "execution_count": 25,
   "metadata": {},
   "outputs": [
    {
     "name": "stdout",
     "output_type": "stream",
     "text": [
      "{'Park'}\n",
      "{'Park'}\n"
     ]
    }
   ],
   "source": [
    "A=set(['Park','Lee','Kim'])\n",
    "B=set(['Park','Sung','Han'])\n",
    "\n",
    "print(A&B)\n",
    "print(A.intersection(B))"
   ]
  },
  {
   "cell_type": "markdown",
   "metadata": {},
   "source": [
    "### 5. 딕셔너리\n",
    "\n",
    "> 키(key)와 값(value)의 쌍으로 관리되는 객체"
   ]
  },
  {
   "cell_type": "markdown",
   "metadata": {},
   "source": [
    "### 딕셔너리를 활용하기 위한 반복문과 API 활용\n",
    "\n",
    ">items() - 반복문에서 사용빈도가 높고, key와 value를 한번에 반환<br>\n",
    ">keys() - 사전에서 key들만 리스트로 반환<br>\n",
    ">values() - value값들만 반환"
   ]
  },
  {
   "cell_type": "code",
   "execution_count": 3,
   "metadata": {},
   "outputs": [
    {
     "name": "stdout",
     "output_type": "stream",
     "text": [
      "방법1\n",
      "a 1\n",
      "b 2\n",
      "c 3\n",
      "방법2\n",
      "a 1\n",
      "b 2\n",
      "c 3\n",
      "['a', 'b', 'c']\n",
      "---------\n",
      "[1, 2, 3]\n"
     ]
    }
   ],
   "source": [
    "#사전의 모든 값을 순차적으로 참조하는 방법\n",
    "data = {\"a\":1, \"b\":2, \"c\":3}\n",
    "\n",
    "print(\"방법1\")\n",
    "for key in data:\n",
    "    print(key, data[key])\n",
    "\n",
    "print(\"방법2\")\n",
    "for (key,value) in data.items():\n",
    "    print(key, value)\n",
    "    \n",
    "\n",
    "print(list(data.keys()))\n",
    "\n",
    "print(\"---------\")\n",
    "print(list(data.values()))"
   ]
  },
  {
   "cell_type": "code",
   "execution_count": 13,
   "metadata": {},
   "outputs": [
    {
     "data": {
      "text/plain": [
       "'01012345678'"
      ]
     },
     "execution_count": 13,
     "metadata": {},
     "output_type": "execute_result"
    }
   ],
   "source": [
    "contacts = {'Kim':'01012345678',  'Park':'01012345679', 'Lee':'01012345680' }\n",
    "contacts['Kim']"
   ]
  },
  {
   "cell_type": "code",
   "execution_count": 14,
   "metadata": {},
   "outputs": [
    {
     "data": {
      "text/plain": [
       "'01012345678'"
      ]
     },
     "execution_count": 14,
     "metadata": {},
     "output_type": "execute_result"
    }
   ],
   "source": [
    "contacts.get('Kim')"
   ]
  },
  {
   "cell_type": "code",
   "execution_count": 15,
   "metadata": {},
   "outputs": [
    {
     "name": "stdout",
     "output_type": "stream",
     "text": [
      "키가 딕셔너리에 있음\n"
     ]
    }
   ],
   "source": [
    "if \"Kim\" in contacts:\n",
    "    print(\"키가 딕셔너리에 있음\")"
   ]
  },
  {
   "cell_type": "code",
   "execution_count": 26,
   "metadata": {},
   "outputs": [
    {
     "name": "stdout",
     "output_type": "stream",
     "text": [
      "('Korean', 80)\n",
      "('Math', 90)\n",
      "('English', 80)\n",
      "-----------\n",
      "Korean   80\n",
      "Math   90\n",
      "English   80\n"
     ]
    }
   ],
   "source": [
    "# 항목 순회하기\n",
    "scores = { 'Korean': 80, 'Math': 90, 'English': 80}\n",
    "\n",
    "for item in scores.items():\n",
    "    print(item)\n",
    "    \n",
    "print(\"-----------\")\n",
    "\n",
    "for key, value in scores.items():\n",
    "    print(key, ' ', value)"
   ]
  },
  {
   "cell_type": "markdown",
   "metadata": {},
   "source": [
    "### Lab2 ? - 각각의 단어가 몇 번이나 나오는지를 계산하는 프로그램을 작성하기\n",
    "\n",
    "> 문제<br>\n",
    ">  - 사용자가 지정하는 파일을 읽어서 파일에 저장된 각각의 단어가 몇 번이나 나오는지를 계산하는 프로그램을 작성하여 보자.<br>\n",
    "\n",
    "> 힌트<br>\n",
    "    - key는 단어로, 나온 횟수는 value로 처리하기<br>\n",
    "    - 필요한 타입 : 딕셔너리\n",
    "    \n",
    "> 질문<br>\n",
    "    - 데이터 분해 -> 각각 분해를 할때 사용 하고자 하는 자료 구조 타입?\n",
    "    - 데이터는 문자열\n",
    "    - 단어별로 구분해야 하는 상황이라면 단어가 구분 데이터 : key"
   ]
  },
  {
   "cell_type": "code",
   "execution_count": 51,
   "metadata": {},
   "outputs": [
    {
     "name": "stdout",
     "output_type": "stream",
     "text": [
      "{'내': 11, ' ': 92, '속': 6, '엔': 6, '가': 12, '너': 3, '무': 5, '도': 5, '많': 5, '아': 9, '당': 5, '신': 5, '의': 5, '쉴': 6, '곳': 6, '없': 6, '네': 5, '\\n': 16, '헛': 1, '된': 1, '바': 5, '램': 1, '들': 3, '로': 5, '편': 1, '할': 1, '어': 6, '쩔': 1, '수': 2, '는': 4, '둠': 1, '자': 1, '리': 1, '를': 3, '뺏': 1, '고': 7, '이': 3, '길': 1, '슬': 3, '픔': 1, '성': 1, '한': 1, '시': 3, '나': 1, '숲': 1, '같': 1, '람': 4, '만': 4, '불': 4, '면': 4, '그': 2, '메': 2, '마': 2, '른': 2, '지': 4, '서': 4, '부': 4, '대': 4, '끼': 2, '며': 2, '울': 2, '을': 2, '찾': 2, '쳐': 2, '날': 6, '온': 2, '린': 2, '새': 2, '에': 2, '찔': 2, '려': 2, '외': 2, '롭': 2, '또': 2, '괴': 2, '워': 2, '픈': 2, '노': 2, '래': 2, '르': 2, '던': 2, '았': 2, '데': 2}\n"
     ]
    }
   ],
   "source": [
    "data = '''내 속엔 내가 너무도 많아 당신의 쉴 곳 없네\n",
    "내 속엔 헛된바램들로 당신의 편할 곳 없네\n",
    "내 속엔 내가 어쩔 수 없는 어둠 당신의 쉴 자리를 뺏고\n",
    "내 속엔 내가 이길 수 없는 슬픔 무성한 가시나무숲같네\n",
    "\n",
    "바람만 불면 그 메마른가지 서로 부대끼며 울어대고\n",
    "쉴곳을 찾아 지쳐 날아온 어린새들도 가시에 찔려 날아가고\n",
    "바람만 불면 외롭고 또 괴로워 슬픈 노래를 부르던 날이 많았는데\n",
    "\n",
    "내 속엔 내가 너무도 많아서 당신의 쉴 곳 없네\n",
    "\n",
    "\n",
    "바람만 불면 그 메마른가지 서로 부대끼며 울어대고\n",
    "쉴곳을 찾아 지쳐 날아온 어린새들도 가시에 찔려 날아가고\n",
    "바람만 불면 외롭고 또 괴로워 슬픈 노래를 부르던 날이 많았는데\n",
    "\n",
    "내 속엔 내가 너무도 많아서 당신의 쉴 곳 없네'''\n",
    "\n",
    "table = dict()\n",
    "for line in data:\n",
    "    #words = line.split(\" \")  \n",
    "     for word in line:\n",
    "        if word in table:\n",
    "            table[word] +=1 # 이미 존재하는 철자 따라서 value 값만 1갱신\n",
    "        else:\n",
    "            table[word] = 1 #추가\n",
    "        \n",
    "print(table)\n"
   ]
  },
  {
   "cell_type": "markdown",
   "metadata": {},
   "source": [
    "### Lab3 ? - 함축된 표현식으로 변경해 보기\n",
    "> 1. 소스 분석하기<br>\n",
    "> 2. 반복문을 함축 표현으로 변경해 보기\n",
    "> 3. 알고리즘 문제로 많이 나오는 로직"
   ]
  },
  {
   "cell_type": "code",
   "execution_count": 52,
   "metadata": {},
   "outputs": [
    {
     "data": {
      "text/plain": [
       "['V1 TEST', 'V2 TEST', 'V3 TEST']"
      ]
     },
     "execution_count": 52,
     "metadata": {},
     "output_type": "execute_result"
    }
   ],
   "source": [
    "v = []\n",
    "values = ['v1 test', 'v2 test', 'v3 test', 'v4', 'v5']\n",
    "for x in values:\n",
    "    if len(x) > 2:\n",
    "        v.append(x.upper());\n",
    "\n",
    "v"
   ]
  },
  {
   "cell_type": "code",
   "execution_count": 59,
   "metadata": {},
   "outputs": [
    {
     "data": {
      "text/plain": [
       "['V1 TEST', 'V2 TEST', 'V3 TEST']"
      ]
     },
     "execution_count": 59,
     "metadata": {},
     "output_type": "execute_result"
    }
   ],
   "source": [
    "#values가 위에서 선언되어서 한번 더 할 필요가 없음\n",
    "#values = ['v1 test', 'v2 test', 'v3 test', 'v4', 'v5']\n",
    "v = [(x.upper()) for x in values if len(x) > 2]\n",
    "v"
   ]
  }
 ],
 "metadata": {
  "kernelspec": {
   "display_name": "Python 3",
   "language": "python",
   "name": "python3"
  },
  "language_info": {
   "codemirror_mode": {
    "name": "ipython",
    "version": 3
   },
   "file_extension": ".py",
   "mimetype": "text/x-python",
   "name": "python",
   "nbconvert_exporter": "python",
   "pygments_lexer": "ipython3",
   "version": "3.6.5"
  }
 },
 "nbformat": 4,
 "nbformat_minor": 2
}
