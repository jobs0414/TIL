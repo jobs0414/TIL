{
 "cells": [
  {
   "cell_type": "markdown",
   "metadata": {},
   "source": [
    "### 1. 파이썬 특징\n",
    "\n",
    "> 1. 대화식 인터프리터 -컴파일 단계 없음 <br>\n",
    ">    참고 : html/css/java script도 인터프리터 언어<br>\n",
    "> 2. 부울, 정수, 실수, 문자열, 데이터 구조, 함수가 객체로 구현 <br> \n",
    "     참고 : range() 함수도 객체 <br> \n",
    "> 2. 파이썬 철학\n",
    "   명령 프롬프트창에 import this 입력해 보기"
   ]
  },
  {
   "cell_type": "code",
   "execution_count": null,
   "metadata": {},
   "outputs": [],
   "source": [
    "import this"
   ]
  },
  {
   "cell_type": "code",
   "execution_count": null,
   "metadata": {},
   "outputs": [],
   "source": [
    "### 2. 숫자\n",
    ">1. 연산자 참고 URL<br>\n",
    "   https://docs.python.org/3.7/reference/lexical_analysis.html#operators  <br>\n",
    "   / 는 부동도수점 포함해서 출력 <br>\n",
    "   //는 부동소수점을 제외한 결과 즉 정수가 출력<br>\n",
    " "
   ]
  },
  {
   "cell_type": "code",
   "execution_count": null,
   "metadata": {},
   "outputs": [],
   "source": [
    "9/5"
   ]
  },
  {
   "cell_type": "code",
   "execution_count": null,
   "metadata": {},
   "outputs": [],
   "source": [
    "9//5"
   ]
  },
  {
   "cell_type": "code",
   "execution_count": null,
   "metadata": {},
   "outputs": [],
   "source": [
    "9%5"
   ]
  },
  {
   "cell_type": "markdown",
   "metadata": {},
   "source": [
    "### 3. 형변환\n",
    ">1. int() : 다른 데이터 타입을 정수형으로 변환하려면<br>\n",
    ">2. float() : 부동 소수점으로 변환하기<br>\n",
    ">3. str() : 문자열로 변환하기"
   ]
  },
  {
   "cell_type": "markdown",
   "metadata": {},
   "source": [
    "###4 Lab1 - 자동 판매기를 시뮬레이션하는 프로그램 만들기\n",
    "> 1. 문제<br>\n",
    "  사용자는 1000원짜리 지폐와 500원짜리 동전, 100원짜리 동전을 사용할 수 있고, 물건값을 입력하고 1000원권, 500원 짜리 동전, 100원짜리 동전을 사용할 수 있다.<br>\n",
    "  물건값을 입력하고 1000원권, 500원짜리 동전, 100원짜리 동전의 개수를 입력하면 거스름돈을 계산하여서 동전으로 변환한다<br>\n",
    "\n",
    ">2. 출력 결과 예시<br>\n",
    "물건값을 입력하시오: 750 <br>\n",
    "1000원 지폐개수: 1<br>\n",
    "500원 동전개수: 0<br>\n",
    "100원 동전개수: 0<br>\n",
    "출력 500원= 0 100원= 2 10원= 5 1원= 0<br>"
   ]
  },
  {
   "cell_type": "code",
   "execution_count": null,
   "metadata": {},
   "outputs": [],
   "source": [
    "price=int(input('물건값 계산하기'))   #로직 큰 그림을 그리고 생각. // 모르는 함수 구글링 하거나 기술셋 봐서 해결하기. \n",
    "ten=int(input('1000원 지페개수'))     #수시로 print해서 잘 되고 있나 확인하기.  tip -- 식이 형 - \n",
    "five=int(input('500원 동전개수'))\n",
    "one=int(input('100원 동전개수'))\n",
    "fifty=int(input('50원 동전개수'))\n",
    "\n",
    "\n",
    "itemprice=ten*1000+five*500+one*100\n",
    "change=itemprice-price\n",
    "print(change)\n",
    "\n",
    "#1000원짜리 \n",
    "\n",
    "nten=int(change)//1000 \n",
    "change=change%1000\n",
    "\n",
    "#500원짜리 \n",
    "\n",
    "nfive=int(change)//500\n",
    "change=change%500\n",
    "\n",
    "#100원짜리 \n",
    "none=int(change)//100\n",
    "change=change%100\n",
    "\n",
    "#50원짜리 \n",
    "nfifty=int(change)//50\n",
    "change=change%50\n",
    "\n",
    "print('1000원 개수:', nten , '500원 개수 :', nfive , '100원 개수:', none, '50원개수',nfifty)\n",
    "\n",
    "\n"
   ]
  },
  {
   "cell_type": "markdown",
   "metadata": {},
   "source": [
    "### 5. 문자열\n",
    ">https://docs.python.org/3.6/library/string.html#module-string\n",
    "\n",
    ">1. 문자들의 순서있는 집합(sequence of characters)<br>\n",
    "2. 여러줄로 이뤄진 문자열 표현도 가능 - 단일, 쌍따옴표로 처리<br>\n",
    "3. print 함수 사용시 특수 기호로 처리 가능 : \\r \n",
    "4. str() : 형변환 함수<br>\n",
    "5. 문자열의 반복<br>\n",
    "6. 문자열의 출력<br>\n",
    "7. 문자열 indexing : 문자열에서 한 문자를 얻기 위해서는 문자열 이름 뒤에 대괄호와 오프셋으로 지정<br>\n",
    "8. 문자열 slice : 문자열의 일부를 추출<br>\n",
    "9. 문자열 내장 함수 이해하기 - len(), split(), join(), startwith, find()<br>"
   ]
  },
  {
   "cell_type": "code",
   "execution_count": null,
   "metadata": {},
   "outputs": [],
   "source": [
    "print(2+1)"
   ]
  },
  {
   "cell_type": "code",
   "execution_count": null,
   "metadata": {},
   "outputs": [],
   "source": [
    "data='abcdefghj-test'"
   ]
  },
  {
   "cell_type": "markdown",
   "metadata": {},
   "source": [
    "특정 표기를 기준으로 문자열 나누기  -반환하는 데이터 타입은 list \n",
    "# index로 관리 가능 \n",
    "v1=data.split('-')\n",
    "v1[1]"
   ]
  },
  {
   "cell_type": "code",
   "execution_count": null,
   "metadata": {},
   "outputs": [],
   "source": [
    "data"
   ]
  },
  {
   "cell_type": "code",
   "execution_count": null,
   "metadata": {},
   "outputs": [],
   "source": [
    "#find() 라는 함수로 fg 포함되었나 확인한 결과값은 index \n",
    "#index는 0부터 시작 \n",
    "#참고 -성민왈 (데이터 없으면? 어떻게 되나) -1값 반환 \n",
    "data.find('f')"
   ]
  },
  {
   "cell_type": "code",
   "execution_count": null,
   "metadata": {},
   "outputs": [],
   "source": [
    "# 문자열도 for문으로 활용 가능  \n",
    "for v2 in data:\n",
    "    \n",
    "    print(v2,end=\" \")  #여백 띄어써야 한다. "
   ]
  },
  {
   "cell_type": "code",
   "execution_count": null,
   "metadata": {},
   "outputs": [],
   "source": [
    "data[0:5]  #뒷자리는 -1로"
   ]
  },
  {
   "cell_type": "code",
   "execution_count": null,
   "metadata": {},
   "outputs": [],
   "source": [
    "data[2:]"
   ]
  },
  {
   "cell_type": "code",
   "execution_count": null,
   "metadata": {},
   "outputs": [],
   "source": [
    "data[:3]   #뒷자리는 -1로 "
   ]
  },
  {
   "cell_type": "code",
   "execution_count": null,
   "metadata": {},
   "outputs": [],
   "source": [
    "print('c:/data')"
   ]
  },
  {
   "cell_type": "code",
   "execution_count": null,
   "metadata": {},
   "outputs": [],
   "source": [
    "print(r'c://data')   #앞에 경로에 r을 쓰면 어그러진 경로도 잘 나오게 된다."
   ]
  },
  {
   "cell_type": "code",
   "execution_count": null,
   "metadata": {},
   "outputs": [],
   "source": [
    "def function(a):\n",
    "     pass\n",
    "\n",
    "function(0, a=0)\n",
    "Traceback (most recent call last):\n",
    "    File \"<stdin>\", line 1, in <module>"
   ]
  },
  {
   "cell_type": "code",
   "execution_count": null,
   "metadata": {},
   "outputs": [],
   "source": []
  }
 ],
 "metadata": {
  "kernelspec": {
   "display_name": "Python 3",
   "language": "python",
   "name": "python3"
  },
  "language_info": {
   "codemirror_mode": {
    "name": "ipython",
    "version": 3
   },
   "file_extension": ".py",
   "mimetype": "text/x-python",
   "name": "python",
   "nbconvert_exporter": "python",
   "pygments_lexer": "ipython3",
   "version": "3.6.5"
  }
 },
 "nbformat": 4,
 "nbformat_minor": 2
}
